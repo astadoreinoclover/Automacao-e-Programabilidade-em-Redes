{
 "cells": [
  {
   "cell_type": "code",
   "execution_count": 1,
   "id": "2a8215d6",
   "metadata": {},
   "outputs": [],
   "source": [
    "from selenium import webdriver\n",
    "from selenium.webdriver.common.by import By\n",
    "from selenium.webdriver.common.keys import Keys\n",
    "import re\n",
    "import requests\n",
    "import os"
   ]
  },
  {
   "cell_type": "code",
   "execution_count": 2,
   "id": "7016633b",
   "metadata": {},
   "outputs": [],
   "source": [
    "navegador = webdriver.Chrome()"
   ]
  },
  {
   "cell_type": "code",
   "execution_count": 3,
   "id": "4dd50dfb",
   "metadata": {},
   "outputs": [],
   "source": [
    "navegador.get('https://google.com.br')"
   ]
  },
  {
   "cell_type": "code",
   "execution_count": 4,
   "id": "d927b45b",
   "metadata": {},
   "outputs": [],
   "source": [
    "barra_pesquisa = navegador.find_element(By.NAME, 'q')"
   ]
  },
  {
   "cell_type": "code",
   "execution_count": 5,
   "id": "f1fe5490",
   "metadata": {},
   "outputs": [],
   "source": [
    "barra_pesquisa.send_keys('Campeonato brasileiro 2025')"
   ]
  },
  {
   "cell_type": "code",
   "execution_count": 6,
   "id": "2dd13005",
   "metadata": {},
   "outputs": [],
   "source": [
    "barra_pesquisa.send_keys(Keys.ENTER)"
   ]
  },
  {
   "cell_type": "code",
   "execution_count": 7,
   "id": "b4cc815b",
   "metadata": {},
   "outputs": [],
   "source": [
    "link = navegador.find_element(By.PARTIAL_LINK_TEXT, \"Tabela e Jogos do Brasileirão Série A 2025\")\n",
    "link.click()"
   ]
  },
  {
   "cell_type": "code",
   "execution_count": 44,
   "id": "5bdc1d30",
   "metadata": {},
   "outputs": [],
   "source": [
    "linhasEstatisticas = navegador.find_elements(By.CSS_SELECTOR, \".tabela__pontos tbody tr\")\n",
    "clubes = navegador.find_elements(By.CSS_SELECTOR, \".classificacao__equipes--nome\")"
   ]
  },
  {
   "cell_type": "code",
   "execution_count": 28,
   "id": "a563f8b6",
   "metadata": {},
   "outputs": [
    {
     "name": "stdout",
     "output_type": "stream",
     "text": [
      "1. Arrascaeta MEIO-CAMPO com 9 - Flamengo\n",
      "2. Kaio Jorge ATACANTE com 8 - Cruzeiro\n",
      "3. Vegetti ATACANTE com 7 - Vasco\n",
      "4. Pedro Raul ATACANTE com 6 - Ceará\n",
      "5. Reinaldo LATERAL-ESQUERDO com 6 - Mirassol\n",
      "6. Yuri Alberto ATACANTE com 5 - Corinthians\n",
      "7. Isidro Pitta ATACANTE com 4 - Bragantino\n",
      "8. Pedro ATACANTE com 4 - Flamengo\n",
      "9. Rony ATACANTE com 3 - Atlético-MG\n",
      "10. Lucero ATACANTE com 3 - Fortaleza\n"
     ]
    }
   ],
   "source": [
    "goleadores = navegador.find_elements(By.CSS_SELECTOR, \".ranking-item-wrapper\")\n",
    "for i, goleador in enumerate(goleadores[:10], start=1):\n",
    "    nome = goleador.find_element(By.CSS_SELECTOR, \".jogador-nome\")\n",
    "    gols = goleador.find_element(By.CSS_SELECTOR, \".jogador-gols\")\n",
    "    posicao = goleador.find_element(By.CSS_SELECTOR, \".jogador-posicao\")\n",
    "    imagem = goleador.find_element(By.CSS_SELECTOR, \".jogador-escudo img\")\n",
    "    time = imagem.get_attribute(\"alt\")\n",
    "    print(f\"{i}. {nome.text} {posicao.text} com {gols.text} - {time}\")\n",
    "\n"
   ]
  },
  {
   "cell_type": "code",
   "execution_count": 45,
   "id": "786f0d57",
   "metadata": {},
   "outputs": [],
   "source": [
    "campos = [\n",
    "    \"pontos\",\n",
    "    \"jogos\",\n",
    "    \"vitórias\",\n",
    "    \"empates\",\n",
    "    \"derrotas\",\n",
    "    \"gols_pro\",\n",
    "    \"gols_contra\",\n",
    "    \"saldo_de_gols\",\n",
    "    \"aproveitamento\"\n",
    "]"
   ]
  },
  {
   "cell_type": "code",
   "execution_count": 46,
   "id": "708f37f8",
   "metadata": {},
   "outputs": [],
   "source": [
    "tabela_classificacao = {}\n",
    "cabecalho = f\"{'Clube':<25} {'P':>3} {'J':>3} {'V':>3} {'E':>3} {'D':>3} {'GP':>4} {'GC':>4} {'SG':>4} {'AP':>5}\"\n",
    "\n",
    "if len(clubes) == len(linhasEstatisticas):\n",
    "    for clube, estatistica in zip(clubes, linhasEstatisticas):\n",
    "        valores = estatistica.text.split()\n",
    "        dados_clube = {campo: valor for campo, valor in zip(campos, valores)}\n",
    "        tabela_classificacao[clube.text] = dados_clube\n",
    "else:\n",
    "    print(\"Erro: número de clubes e estatísticas não corresponde.\")"
   ]
  },
  {
   "cell_type": "code",
   "execution_count": 47,
   "id": "b4af0c79",
   "metadata": {},
   "outputs": [],
   "source": [
    "def mostrar_tabela():\n",
    "    print(cabecalho)\n",
    "    print(\"-\" * len(cabecalho))\n",
    "\n",
    "    for clube, estatisticas in tabela_classificacao.items():\n",
    "        print(f\"{clube:<25} \"\n",
    "            f\"{estatisticas['pontos']:>3} \"\n",
    "            f\"{estatisticas['jogos']:>3} \"\n",
    "            f\"{estatisticas['vitórias']:>3} \"\n",
    "            f\"{estatisticas['empates']:>3} \"\n",
    "            f\"{estatisticas['derrotas']:>3} \"\n",
    "            f\"{estatisticas['gols_pro']:>4} \"\n",
    "            f\"{estatisticas['gols_contra']:>4} \"\n",
    "            f\"{estatisticas['saldo_de_gols']:>4} \"\n",
    "            f\"{estatisticas['aproveitamento']:>4}%\")"
   ]
  },
  {
   "cell_type": "code",
   "execution_count": 48,
   "id": "afae9437",
   "metadata": {},
   "outputs": [],
   "source": [
    "def estatisticas_time():\n",
    "    print(\"Times disponíveis:\\n\")\n",
    "    for i, clube in enumerate(tabela_classificacao.keys(), start=1):\n",
    "        print(f\"{i}. {clube}\")\n",
    "\n",
    "    escolha = int(input(\"\\nDigite o número do time desejado: \")) - 1\n",
    "\n",
    "    nomes_times = list(tabela_classificacao.keys())\n",
    "    if 0 <= escolha < len(nomes_times):\n",
    "        time = nomes_times[escolha]\n",
    "        dados = tabela_classificacao[time]\n",
    "\n",
    "        texto = (\n",
    "            f\"\\n{time} disputou {dados['jogos']} jogos.\\n\"\n",
    "            f\"Conquistou {dados['vitórias']} vitórias, \"\n",
    "            f\"{dados['empates']} empates e {dados['derrotas']} derrotas.\\n\"\n",
    "            f\"Marcou {dados['gols_pro']} gols e sofreu {dados['gols_contra']}.\\n\"\n",
    "            f\"Tem um saldo de gols de {dados['saldo_de_gols']}.\\n\"\n",
    "            f\"Está na {escolha+1} posição com {dados['pontos']} pontos e um aproveitamento de {dados['aproveitamento']}%.\"\n",
    "        )\n",
    "        print(texto)\n",
    "    else:\n",
    "        print(\"Número inválido. Por favor, escolha um número da lista.\")\n"
   ]
  },
  {
   "cell_type": "code",
   "execution_count": 49,
   "id": "4517890f",
   "metadata": {},
   "outputs": [],
   "source": [
    "jogos = navegador.find_elements(By.CSS_SELECTOR, \".lista-jogos__jogo\")\n"
   ]
  },
  {
   "cell_type": "code",
   "execution_count": 50,
   "id": "8e295b09",
   "metadata": {},
   "outputs": [],
   "source": [
    "jogos_disponiveis = []\n",
    "\n",
    "def list_jogos():\n",
    "    for idx, jogo in enumerate(jogos):\n",
    "        linhas = jogo.text.split('\\n')\n",
    "        linhas = [linha for linha in linhas if linha.strip() and \"FIQUE POR DENTRO\" not in linha]\n",
    "\n",
    "        if len(linhas) >= 3:\n",
    "            linha0 = linhas[0]\n",
    "            padrao = re.compile(r\"(.*?)(\\d{2}/\\d{2})([A-Za-zÀ-ÿ]+)?(\\d{2}:\\d{2})\")\n",
    "            m = padrao.match(linha0)\n",
    "\n",
    "            if m:\n",
    "                local = m.group(1).strip()\n",
    "                data = m.group(2)\n",
    "                dia = m.group(3) if m.group(3) else \"\"\n",
    "                hora = m.group(4)\n",
    "\n",
    "                if len(linhas) == 3:\n",
    "                    # Jogo futuro (sem placar)\n",
    "                    time_casa = linhas[1]\n",
    "                    time_visitante = linhas[2]\n",
    "                    placar = None\n",
    "                elif len(linhas) >= 6:\n",
    "                    # Jogo encerrado\n",
    "                    time_casa = linhas[1]\n",
    "                    gols_casa = linhas[2]\n",
    "                    gols_visitante = linhas[3]\n",
    "                    time_visitante = linhas[4]\n",
    "                    placar = f\"{gols_casa} x {gols_visitante}\"\n",
    "                else:\n",
    "                    print(f\"{idx + 1}. Formato inesperado (linhas insuficientes):\", linhas)\n",
    "                    continue\n",
    "\n",
    "                jogos_disponiveis.append({\n",
    "                    \"time_casa\": time_casa,\n",
    "                    \"time_visitante\": time_visitante,\n",
    "                    \"local\": local,\n",
    "                    \"data\": data,\n",
    "                    \"dia\": dia,\n",
    "                    \"hora\": hora,\n",
    "                    \"placar\": placar\n",
    "                })\n",
    "\n",
    "                texto_extra = f\" - Placar: {placar}\" if placar else \"\"\n",
    "                print(f\"{idx + 1}. {time_casa} x {time_visitante} - {data} {hora} ({local}){texto_extra}\")\n",
    "            else:\n",
    "                print(f\"{idx + 1}. Erro ao ler local/data/hora: {linha0}\")\n",
    "        else:\n",
    "            print(f\"{idx + 1}. Formato inesperado:\", linhas)\n",
    "\n",
    "    # while True:\n",
    "    #     try:\n",
    "    #         escolha = int(input(\"\\nDigite o número do jogo desejado: \"))\n",
    "    #         if 1 <= escolha <= len(jogos_disponiveis):\n",
    "    #             break\n",
    "    #         else:\n",
    "    #             print(\"Número fora do intervalo.\")\n",
    "    #     except ValueError:\n",
    "    #         print(\"Entrada inválida. Digite um número.\")\n",
    "\n",
    "    # jogo_selecionado = jogos_disponiveis[escolha - 1]\n",
    "\n",
    "    # dadosCasa = tabela_classificacao[jogo_selecionado['time_casa']]\n",
    "    # dadosVisita = tabela_classificacao[jogo_selecionado['time_visitante']]\n",
    "\n",
    "    # # Prompt para API ou exibição\n",
    "    # prompt = (\n",
    "    #     f\"Considere o jogo entre {jogo_selecionado['time_casa']} e {jogo_selecionado['time_visitante']}.\\n\"\n",
    "    #     f\"Local: {jogo_selecionado['local']}\\n\"\n",
    "    #     f\"Data: {jogo_selecionado['data']} {jogo_selecionado['dia']}\\n\"\n",
    "    #     f\"Hora: {jogo_selecionado['hora']}.\\n\\n\"\n",
    "    #     f\"\\nDesempenho Atual do {jogo_selecionado['time_casa']}:\\n\"\n",
    "    #     f\"- Jogos disputados: {dadosCasa['jogos']}\\n\"\n",
    "    #     f\"- Vitórias: {dadosCasa['vitórias']}, Empates: {dadosCasa['empates']}, Derrotas: {dadosCasa['derrotas']}\\n\"\n",
    "    #     f\"- Gols marcados: {dadosCasa['gols_pro']}, Gols sofridos: {dadosCasa['gols_contra']}\\n\"\n",
    "    #     f\"- Saldo de gols: {dadosCasa['saldo_de_gols']}\\n\"\n",
    "    #     f\"- Pontuação: {dadosCasa['pontos']} pontos\\n\"\n",
    "    #     f\"- Aproveitamento: {dadosCasa['aproveitamento']}%\\n\"\n",
    "    #     f\"\\nDesempenho Atual do {jogo_selecionado['time_visitante']}:\\n\"\n",
    "    #     f\"- Jogos disputados: {dadosVisita['jogos']}\\n\"\n",
    "    #     f\"- Vitórias: {dadosVisita['vitórias']}, Empates: {dadosCasa['empates']}, Derrotas: {dadosCasa['derrotas']}\\n\"\n",
    "    #     f\"- Gols marcados: {dadosVisita['gols_pro']}, Gols sofridos: {dadosCasa['gols_contra']}\\n\"\n",
    "    #     f\"- Saldo de gols: {dadosVisita['saldo_de_gols']}\\n\"\n",
    "    #     f\"- Pontuação: {dadosVisita['pontos']} pontos\\n\"\n",
    "    #     f\"- Aproveitamento: {dadosVisita['aproveitamento']}%\\n\"\n",
    "    #     \"Baseado no desempenho recente dos dois times e o local do jogo, faça uma previsão realista do resultado da partida.\"\n",
    "    # )\n",
    "    # print(prompt)\n"
   ]
  },
  {
   "cell_type": "code",
   "execution_count": null,
   "id": "800b6d30",
   "metadata": {},
   "outputs": [
    {
     "name": "stdout",
     "output_type": "stream",
     "text": [
      "\n",
      "🔮 Previsão da IA para o jogo:\n",
      "\n",
      "Erro 429: {\n",
      "    \"error\": {\n",
      "        \"message\": \"You exceeded your current quota, please check your plan and billing details. For more information on this error, read the docs: https://platform.openai.com/docs/guides/error-codes/api-errors.\",\n",
      "        \"type\": \"insufficient_quota\",\n",
      "        \"param\": null,\n",
      "        \"code\": \"insufficient_quota\"\n",
      "    }\n",
      "}\n",
      "\n"
     ]
    }
   ],
   "source": [
    "\n",
    "# API_KEY = \"sUA CHAVE\"\n",
    "\n",
    "# # Endpoint da API ChatGPT (GPT-4)\n",
    "# url = \"https://api.openai.com/v1/chat/completions\"\n",
    "\n",
    "# # Função para chamar a API e obter uma previsão\n",
    "# def obter_previsao_jogo():\n",
    "\n",
    "#     headers = {\n",
    "#         \"Authorization\": f\"Bearer {API_KEY}\",\n",
    "#         \"Content-Type\": \"application/json\"\n",
    "#     }\n",
    "\n",
    "#     body = {\n",
    "#         \"model\": \"gpt-3.5-turbo\",\n",
    "#         \"messages\": [\n",
    "#             {\"role\": \"system\", \"content\": \"Você é um especialista em futebol brasileiro.\"},\n",
    "#             {\"role\": \"user\", \"content\": prompt}\n",
    "#         ],\n",
    "#         \"temperature\": 0.7\n",
    "#     }\n",
    "\n",
    "#     response = requests.post(url, headers=headers, json=body)\n",
    "\n",
    "#     if response.status_code == 200:\n",
    "#         resposta = response.json()\n",
    "#         return resposta[\"choices\"][0][\"message\"][\"content\"]\n",
    "#     else:\n",
    "#         return f\"Erro {response.status_code}: {response.text}\"\n",
    "# previsao = obter_previsao_jogo()\n",
    "# print(\"\\n🔮 Previsão da IA para o jogo:\\n\")\n",
    "# print(previsao)"
   ]
  },
  {
   "cell_type": "code",
   "execution_count": null,
   "id": "ba31e977",
   "metadata": {},
   "outputs": [
    {
     "name": "stdout",
     "output_type": "stream",
     "text": [
      "\n",
      "======= MENU PRINCIPAL =======\n",
      "1 - Mostrar tabela\n",
      "2 - Estatitisticas do time\n",
      "3 - Jogos da Rodada\n",
      "5 - Sair\n",
      "1. FLU x VAS - 24/05 18:30 (Maracanã) - Placar: 2 x 1\n",
      "2. SAO x MIR - 24/05 18:30 (Morumbis) - Placar: 0 x 2\n",
      "3. CAM x COR - 24/05 21:00 (Arena MRV) - Placar: 0 x 0\n",
      "4. GRE x BAH - 25/05 11:00 (Arena do Grêmio) - Placar: 1 x 0\n",
      "5. PAL x FLA - 25/05 16:00 (Allianz Parque) - Placar: 0 x 2\n",
      "6. SPT x INT - 25/05 16:00 (Ilha do Retiro) - Placar: 1 x 1\n",
      "7. VIT x SAN - 25/05 18:30 (Barradão) - Placar: 0 x 1\n",
      "8. FOR x CRU - 25/05 20:30 (Castelão (CE)) - Placar: 0 x 2\n",
      "9. RBB x JUV - 26/05 20:00 (Cícero de Souza Marques) - Placar: 1 x 0\n",
      "10. BOT x CEA - 04/06 20:00 (Nilton Santos (Engenhão))\n",
      "\n",
      "======= MENU PRINCIPAL =======\n",
      "1 - Mostrar tabela\n",
      "2 - Estatitisticas do time\n",
      "3 - Jogos da Rodada\n",
      "5 - Sair\n",
      "Saindo do programa...\n"
     ]
    }
   ],
   "source": [
    "def exibir_menu():\n",
    "    print(\"\\n======= MENU PRINCIPAL =======\")\n",
    "    print(\"1 - Mostrar tabela\")\n",
    "    print(\"2 - Estatitisticas do time\")\n",
    "    print(\"3 - Jogos da Rodada\")\n",
    "    print(\"5 - Sair\")\n",
    "\n",
    "def main():\n",
    "    while True:\n",
    "        exibir_menu()\n",
    "        opcao = input(\"Escolha uma opção: \")\n",
    "\n",
    "        if opcao == '1':\n",
    "            mostrar_tabela()\n",
    "        elif opcao == '2':\n",
    "            estatisticas_time()\n",
    "        elif opcao == '3':\n",
    "            list_jogos()\n",
    "        elif opcao == '4':\n",
    "            prever()\n",
    "        elif opcao == '5':\n",
    "            print(\"Saindo do programa...\")\n",
    "            break\n",
    "        else:\n",
    "            print(\"Opção inválida. Tente novamente.\")\n",
    "\n",
    "if __name__ == \"__main__\":\n",
    "    main()"
   ]
  }
 ],
 "metadata": {
  "kernelspec": {
   "display_name": "Python 3",
   "language": "python",
   "name": "python3"
  },
  "language_info": {
   "codemirror_mode": {
    "name": "ipython",
    "version": 3
   },
   "file_extension": ".py",
   "mimetype": "text/x-python",
   "name": "python",
   "nbconvert_exporter": "python",
   "pygments_lexer": "ipython3",
   "version": "3.11.5"
  }
 },
 "nbformat": 4,
 "nbformat_minor": 5
}
